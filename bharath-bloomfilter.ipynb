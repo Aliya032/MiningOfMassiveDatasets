{
 "cells": [
  {
   "cell_type": "code",
   "execution_count": 7,
   "metadata": {},
   "outputs": [
    {
     "name": "stdout",
     "output_type": "stream",
     "text": [
      "True\n",
      "False\n"
     ]
    }
   ],
   "source": [
    "class SimpleBloomFilter:\n",
    "    def __init__(self, size=1000, hash_count=3):\n",
    "        self.size = size\n",
    "        self.hash_count = hash_count\n",
    "        self.bit_array = [0] * size\n",
    "\n",
    "    def add(self, item):\n",
    "        hashes = [(hash(item) + i) % self.size for i in range(self.hash_count)]\n",
    "        for h in hashes:\n",
    "            self.bit_array[h] = 1\n",
    "\n",
    "    def check(self, item):\n",
    "        hashes = [(hash(item) + i) % self.size for i in range(self.hash_count)]\n",
    "        return all(self.bit_array[h] for h in hashes)\n",
    "\n",
    "# Example usage\n",
    "bloom = SimpleBloomFilter()\n",
    "bloom.add(\"hello\")\n",
    "print(bloom.check(\"hello\"))  # True\n",
    "print(bloom.check(\"world\"))  # False (probably)"
   ]
  }
 ],
 "metadata": {
  "kernelspec": {
   "display_name": "Python 3",
   "language": "python",
   "name": "python3"
  },
  "language_info": {
   "codemirror_mode": {
    "name": "ipython",
    "version": 3
   },
   "file_extension": ".py",
   "mimetype": "text/x-python",
   "name": "python",
   "nbconvert_exporter": "python",
   "pygments_lexer": "ipython3",
   "version": "3.10.8"
  }
 },
 "nbformat": 4,
 "nbformat_minor": 2
}
